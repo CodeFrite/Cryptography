{
 "cells": [
  {
   "cell_type": "markdown",
   "metadata": {},
   "source": [
    "# RSA Communication Scheme"
   ]
  },
  {
   "cell_type": "markdown",
   "metadata": {},
   "source": [
    "\n",
    "In this notebook, I am gonna show how to:\n",
    "\n",
    "- Setup a RSA communication scheme and use it to securely exchange messages over an insecure channel\n",
    "- Use RSA for Digital Signature (Digital Identity, Digital Intent)\n",
    "\n",
    "This implementation is based on the following textbook: \n",
    "\n",
    "```Understanding Cryptography: Pr. Christof Paar. & Pr. Jan Pelzl. Springer 2010, 1st edition, Chapters 6, 7 and 11```"
   ]
  },
  {
   "cell_type": "markdown",
   "metadata": {},
   "source": [
    "## RSA Key Generation\n"
   ]
  },
  {
   "cell_type": "markdown",
   "metadata": {},
   "source": [
    "![RSA key generation](001.png)\n"
   ]
  },
  {
   "cell_type": "markdown",
   "metadata": {},
   "source": [
    "## Encryption and Decryption functions\n"
   ]
  },
  {
   "cell_type": "markdown",
   "metadata": {},
   "source": [
    "\n",
    "![RSA encryption](005.png \"RSA encryption\")\n",
    "![RSA decryption](006.png \"RSA decryption\")\n"
   ]
  },
  {
   "cell_type": "markdown",
   "metadata": {},
   "source": [
    "## Numerical Example\n"
   ]
  },
  {
   "cell_type": "markdown",
   "metadata": {},
   "source": [
    "\n",
    "Before diving into the coding part, let's use the 2 examples found in the course to illustrate the RSA communication scheme and the underlying challenges its implementation poses."
   ]
  },
  {
   "cell_type": "markdown",
   "metadata": {},
   "source": [
    "### Example 1: Atomic values\n"
   ]
  },
  {
   "cell_type": "markdown",
   "metadata": {},
   "source": [
    "\n",
    "In the textbook, the following values are proposed as an example:\n",
    "\n",
    "- _Step 1:_ $p=3$ and $q=11$\n",
    "- _Step 2:_ $n=p.q=3.11=33$\n",
    "- _Step 3:_ $\\phi(n)=(p-1)(q-1)=2.10=20$\n",
    "- _Step 4:_ $e=3 \\in \\{1, 2, ..., 19\\}$ and confirm that $gcd(3, 20) = 1$\n",
    "- _Step 5:_ $d=7$ satisfies the relation $d.e=mod\\ \\phi(n) \\leftrightarrow 3 \\cdot 7=21=mod(20)$\n",
    "\n",
    "Using the public key $k_{pub}=(n,e)=(20,3)$ Alice can send to Bob a message $x=17 \\in Z_{20}$ by encrypting it: \n",
    "$$y=x^e \\ mod(n)=17^3 \\ mod(20)=4913 \\ mod(20)=13$$\n",
    "\n",
    "Bob can decrypt the message using his private key $d=7$:\n",
    "$$x=y^d \\ mod(n)=13^7 \\ mod(20)=62,748,517 \\ mod(20)=17$$"
   ]
  },
  {
   "cell_type": "markdown",
   "metadata": {},
   "source": [
    "### Example 2: Real World values and the need for fast computation algorithms\n"
   ]
  },
  {
   "cell_type": "markdown",
   "metadata": {},
   "source": [
    "\n",
    "The second illustration from the book uses real world values with a key size of 1024 bits (p & q are 512 bits each):"
   ]
  },
  {
   "cell_type": "code",
   "execution_count": 6,
   "metadata": {},
   "outputs": [
    {
     "name": "stdout",
     "output_type": "stream",
     "text": [
      "+ is e < phi(n)= True\n"
     ]
    },
    {
     "ename": "KeyboardInterrupt",
     "evalue": "",
     "output_type": "error",
     "traceback": [
      "\u001b[0;31m---------------------------------------------------------------------------\u001b[0m",
      "\u001b[0;31mKeyboardInterrupt\u001b[0m                         Traceback (most recent call last)",
      "Cell \u001b[0;32mIn [6], line 22\u001b[0m\n\u001b[1;32m     20\u001b[0m \u001b[38;5;66;03m# Alice sends an encrypted message to Bob\u001b[39;00m\n\u001b[1;32m     21\u001b[0m x\u001b[38;5;241m=\u001b[39m\u001b[38;5;241m0xFEA1490B5F3D8E1\u001b[39m;\n\u001b[0;32m---> 22\u001b[0m y\u001b[38;5;241m=\u001b[39m(x\u001b[38;5;241m*\u001b[39m\u001b[38;5;241m*\u001b[39me)\u001b[38;5;241m%\u001b[39mn;\n\u001b[1;32m     23\u001b[0m \u001b[38;5;28mprint\u001b[39m(\u001b[38;5;124m\"\u001b[39m\u001b[38;5;124mAlice send a message to Bob.\u001b[39m\u001b[38;5;124m\"\u001b[39m);\n\u001b[1;32m     24\u001b[0m \u001b[38;5;28mprint\u001b[39m(\u001b[38;5;124m\"\u001b[39m\u001b[38;5;124mx=\u001b[39m\u001b[38;5;124m\"\u001b[39m,\u001b[38;5;28mhex\u001b[39m(x));\n",
      "\u001b[0;31mKeyboardInterrupt\u001b[0m: "
     ]
    }
   ],
   "source": [
    "# Step 1: select p & q\n",
    "p=0xE0DFD2C2A288ACEBC705EFAB30E4447541A8C5A47A37185C5A9CB98389CE4DE19199AA3069B404FD98C801568CB9170EB712BF10B4955CE9C9DC8CE6855C6123;\n",
    "q=0xEBE0FCF21866FD9A9F0D72F7994875A8D92E67AEE4B515136B2A778A8048B149828AEA30BD0BA34B977982A3D42168F594CA99F3981DDABFAB2369F229640115;\n",
    "\n",
    "# Step 2: compute n\n",
    "n=p*q;\n",
    "\n",
    "# Step 3: compute phi(n)\n",
    "phi=(p-1)*(q-1);\n",
    "\n",
    "# Step 4: select e\n",
    "e=0x40B028E1E4CCF07537643101FF72444A0BE1D7682F1EDB553E3AB4F6DD8293CA1945DB12D796AE9244D60565C2EB692A89B8881D58D278562ED60066DD8211E67315CF89857167206120405B08B54D10D4EC4ED4253C75FA74098FE3F7FB751FF5121353C554391E114C85B56A9725E9BD5685D6C9C7EED8EE442366353DC39;\n",
    "\n",
    "# check if e<phi(n) (we will define below the Extended Euclidian Algoritm to find the gcd of 2 numbers)\n",
    "print(\"+ is e < phi(n)=\",e<phi);\n",
    "\n",
    "# Step 5: compute d (same remark; we will use EEA algorithm later to get the inverse of e)\n",
    "d=0xC21A93EE751A8D4FBFD77285D79D6768C58EBF283743D2889A395F266C78F4A28E86F545960C2CE01EB8AD5246905163B28D0B8BAABB959CC03F4EC499186168AE9ED6D88058898907E61C7CCCC584D65D801CFE32DFC983707F87F5AA6AE4B9E77B9CE630E2C0DF05841B5E4984D059A35D7270D500514891F7B77B804BED81;\n",
    "\n",
    "# Alice sends an encrypted message to Bob\n",
    "x=0xFEA1490B5F3D8E1;\n",
    "y=(x**e)%n;\n",
    "print(\"Alice send a message to Bob.\");\n",
    "print(\"x=\",hex(x));\n",
    "print(\"y=\",hex(y));\n",
    "\n",
    "# Bob decodes it\n",
    "x_=(y**d)%n;\n",
    "print(\"Bob decrypts the message=\",hex(x_));"
   ]
  },
  {
   "cell_type": "markdown",
   "metadata": {},
   "source": [
    "Without any surprise, the naïve approach consisting of encrypting and decrypting by simply computing the exponent of such large numbers using the $**$ operator will take ages ($2^{512}$ exponentiation operations when there are $2^{300}$ atoms in the visible universe). This illustrate the need for fast computing methods.\n",
    "\n",
    "Since computing an exponentiation is central to all the further calculations, let's see how we can speed up the process."
   ]
  },
  {
   "cell_type": "markdown",
   "metadata": {},
   "source": [
    "# Implementation"
   ]
  },
  {
   "cell_type": "markdown",
   "metadata": {},
   "source": [
    "## Step 0: Practical Modular Exponentiation"
   ]
  },
  {
   "cell_type": "markdown",
   "metadata": {},
   "source": [
    "As mentioned, before considering implementing the RSA communication scheme, we should make sure to have a practical way of computing modular exponentiations. By practical, we mean an algorithm that has a polynomial complexity as opposed to an exponential complexity as we currently have with the \"**\" operator."
   ]
  },
  {
   "cell_type": "markdown",
   "metadata": {},
   "source": [
    "![Square-and-Multiply Modular Exponentiation](004.png \"Square-and-Multiply Modular Exponentiation\")"
   ]
  },
  {
   "cell_type": "code",
   "execution_count": 46,
   "metadata": {},
   "outputs": [],
   "source": [
    "def square_and_multiply(x:int, H:int, n:int)->int:\n",
    "    r=x \n",
    "    l=len(bin(H))-2;\n",
    "    for i in range(1,l):\n",
    "        r=(r**2)%n;\n",
    "        hi=bin(H)[i+2]; # ignore the prefix 0b\n",
    "        if hi == \"1\":\n",
    "            r=(r*x)%n\n",
    "    return r"
   ]
  },
  {
   "cell_type": "markdown",
   "metadata": {},
   "source": [
    "### Testing the Square-and-Multiply function\n",
    "\n",
    "Now that we have a practical/more efficient way of computing modular exponent, let's test it on the real life book example:\n",
    "\n"
   ]
  },
  {
   "cell_type": "code",
   "execution_count": 98,
   "metadata": {},
   "outputs": [
    {
     "name": "stdout",
     "output_type": "stream",
     "text": [
      "-Bob selects p= 0xe0dfd2c2a288acebc705efab30e4447541a8c5a47a37185c5a9cb98389ce4de19199aa3069b404fd98c801568cb9170eb712bf10b4955ce9c9dc8ce6855c6123\n",
      "-Bob selects q= 0xebe0fcf21866fd9a9f0d72f7994875a8d92e67aee4b515136b2a778a8048b149828aea30bd0ba34b977982a3d42168f594ca99f3981ddabfab2369f229640115\n",
      "-Bob computes n=p.q= 0xcf33188211fdf6052bdbb1a37235e0abb5978a45c71fd381a91ad12fc76da0544c47568ac83d855d47ca8d8a779579ab72e635d0b0aaac22d28341e998e90f82122a2c06090f43a37e0203c2b72e401fd06890ec8ead4f07e686e906f01b2468ae7b30cbd670255c1fede1a2762cf4392c0759499cc0abecff008728d9a11adf\n",
      "-Bob computes phi(n)=(p-1)*(q-1)= 0xcf33188211fdf6052bdbb1a37235e0abb5978a45c71fd381a91ad12fc76da0544c47568ac83d855d47ca8d8a779579ab72e635d0b0aaac22d28341e998e90f8045695c514e1f991d17eea11fed018601b59163992fc1219820bfb7f8e604253d9a569c6aafb07d12efac5da815527434e02a0045500d74438a0090502ae0b8a8\n",
      "-Bob selects e= 0x40b028e1e4ccf07537643101ff72444a0be1d7682f1edb553e3ab4f6dd8293ca1945db12d796ae9244d60565c2eb692a89b8881d58d278562ed60066dd8211e67315cf89857167206120405b08b54d10d4ec4ed4253c75fa74098fe3f7fb751ff5121353c554391e114c85b56a9725e9bd5685d6c9c7eed8ee442366353dc39\n",
      "-Bob computes d= 0xc21a93ee751a8d4fbfd77285d79d6768c58ebf283743d2889a395f266c78f4a28e86f545960c2ce01eb8ad5246905163b28d0b8baabb959cc03f4ec499186168ae9ed6d88058898907e61c7cccc584d65d801cfe32dfc983707f87f5aa6ae4b9e77b9ce630e2c0df05841b5e4984d059a35d7270d500514891f7b77b804bed81\n",
      "- Bob sends the public key (n,e) to Alice\n",
      "-Alice sends a message to Bob.\n",
      "clear-text x= 0xfea1490b5f3d8e1\n",
      "cipher-text y= 0xc38fe44f1b02fc3978945bf6fffbe7132cf7724a0474a1a7ee5e49303ff90bf887bb17a640668b08917ce7b6beeef8b9ec16ee9477e940c592dc7956b7aeacd370ce7b00fecc947362e01f259968a0edffcdc70f277f6ec56a9aa248a2622cfe88cd312d6e06f5c952e5a019e6325227a0f371f12b2ff45ddee1a6921ea707f3\n",
      "-Bob decrypts the cipher-text and obtains the clear-text= 0xfea1490b5f3d8e1\n"
     ]
    }
   ],
   "source": [
    "# Step 1: select p & q\n",
    "p=0xE0DFD2C2A288ACEBC705EFAB30E4447541A8C5A47A37185C5A9CB98389CE4DE19199AA3069B404FD98C801568CB9170EB712BF10B4955CE9C9DC8CE6855C6123;\n",
    "q=0xEBE0FCF21866FD9A9F0D72F7994875A8D92E67AEE4B515136B2A778A8048B149828AEA30BD0BA34B977982A3D42168F594CA99F3981DDABFAB2369F229640115;\n",
    "print(\"-Bob selects p=\", hex(p));\n",
    "print(\"-Bob selects q=\", hex(q));\n",
    "\n",
    "# Step 2: compute n\n",
    "n=p*q;\n",
    "print(\"-Bob computes n=p.q=\", hex(n));\n",
    "\n",
    "# Step 3: compute phi(n)\n",
    "phi=(p-1)*(q-1);\n",
    "print(\"-Bob computes phi(n)=(p-1)*(q-1)=\", hex(phi));\n",
    "\n",
    "# Step 4: select e\n",
    "e=0x40B028E1E4CCF07537643101FF72444A0BE1D7682F1EDB553E3AB4F6DD8293CA1945DB12D796AE9244D60565C2EB692A89B8881D58D278562ED60066DD8211E67315CF89857167206120405B08B54D10D4EC4ED4253C75FA74098FE3F7FB751FF5121353C554391E114C85B56A9725E9BD5685D6C9C7EED8EE442366353DC39;\n",
    "print(\"-Bob selects e=\", hex(e));\n",
    "\n",
    "# Step 5: compute d (same remark; we will use EEA algorithm later to get the inverse of e)\n",
    "d=0xC21A93EE751A8D4FBFD77285D79D6768C58EBF283743D2889A395F266C78F4A28E86F545960C2CE01EB8AD5246905163B28D0B8BAABB959CC03F4EC499186168AE9ED6D88058898907E61C7CCCC584D65D801CFE32DFC983707F87F5AA6AE4B9E77B9CE630E2C0DF05841B5E4984D059A35D7270D500514891F7B77B804BED81;\n",
    "print(\"-Bob computes d=\", hex(d));\n",
    "\n",
    "# B sends the public key to alice\n",
    "print(\"- Bob sends the public key (n,e) to Alice\");\n",
    "\n",
    "# Alice sends an encrypted message to Bob\n",
    "x=0xFEA1490B5F3D8E1;\n",
    "y=square_and_multiply(x, e, n);\n",
    "print(\"-Alice sends a message to Bob.\");\n",
    "print(\"clear-text x=\",hex(x));\n",
    "print(\"cipher-text y=\",hex(y));\n",
    "\n",
    "# Bob decodes the message\n",
    "x_=square_and_multiply(y, d, n);\n",
    "print(\"-Bob decrypts the cipher-text and obtains the clear-text=\",hex(x_));"
   ]
  },
  {
   "cell_type": "markdown",
   "metadata": {},
   "source": [
    "## Step 1: Choosing large prime numbers"
   ]
  },
  {
   "cell_type": "markdown",
   "metadata": {},
   "source": [
    "\n",
    "In order to generate large prime number, we are going to use the *Fermat Primality Test*:\n",
    "\n",
    "![Fermat Primality Test](002.png \"Fermat Primality Test\")\n",
    "\n",
    "This is based on *Fermat's Little Theorem*:\n",
    "\n",
    "![Fermat's Little Theorem](003.png \"Fermat's Little Theorem\")"
   ]
  },
  {
   "cell_type": "code",
   "execution_count": 55,
   "metadata": {},
   "outputs": [],
   "source": [
    "import random;\n",
    "\n",
    "def fermat_primality_test(p_:int,s:int=2)->bool:\n",
    "    for i in range(1,s+1):\n",
    "        a=random.randint(2, p_-2);\n",
    "        if square_and_multiply(a,p_-1,p_) !=1:\n",
    "            return False\n",
    "    return True"
   ]
  },
  {
   "cell_type": "markdown",
   "metadata": {},
   "source": [
    "### Testing Fermat Primality Test algorithm"
   ]
  },
  {
   "cell_type": "markdown",
   "metadata": {},
   "source": [
    "Let's test the algorithm with the real world values from the text book using a relatively high security factor:"
   ]
  },
  {
   "cell_type": "code",
   "execution_count": 72,
   "metadata": {},
   "outputs": [
    {
     "name": "stdout",
     "output_type": "stream",
     "text": [
      "2048\n",
      "Is p prime? True\n",
      "Is q prime? True\n"
     ]
    }
   ],
   "source": [
    "p=0xE0DFD2C2A288ACEBC705EFAB30E4447541A8C5A47A37185C5A9CB98389CE4DE19199AA3069B404FD98C801568CB9170EB712BF10B4955CE9C9DC8CE6855C6123;\n",
    "q=0xEBE0FCF21866FD9A9F0D72F7994875A8D92E67AEE4B515136B2A778A8048B149828AEA30BD0BA34B977982A3D42168F594CA99F3981DDABFAB2369F229640115;\n",
    "\n",
    "print(\"Is p prime?\",fermat_primality_test(p,1000));\n",
    "print(\"Is q prime?\",fermat_primality_test(q,1000));"
   ]
  },
  {
   "cell_type": "markdown",
   "metadata": {},
   "source": [
    "We can now use the algorithm to generate 2 large primes p & q. The procedure works as follow:\n",
    "\n",
    "1. Generate a random 512 bits long integer\n",
    "2. Check with the Fermat Primality Test if the randomly chosen integer is prime\n",
    "3. If not, repeat step 1 & 2"
   ]
  },
  {
   "cell_type": "code",
   "execution_count": 81,
   "metadata": {},
   "outputs": [
    {
     "name": "stdout",
     "output_type": "stream",
     "text": [
      "- p= 0x1c85b27a3312cc55ec69a081aca8d57d4e1ae2b8630dd5cd8acf39787274413ec65676ac1988dd6c58977818ba2b7f9c232ffe8290aa418ba5353ecb6968b6523\n",
      "- len(p)= 513\n",
      "- is prime? True\n",
      "- q= 0x1e1eb34f2955198339356e9a4bd307e35d36108a99b2827a0c48bdb0c4ba7e726e494eb4a78217b39ffaa7c389bfa02eb7f535e62d973fab9434b9d04167e75ab\n",
      "- len(q)= 513\n",
      "- is prime? True\n"
     ]
    }
   ],
   "source": [
    "def generate_large_prime(nbits:int, s:int)->int:\n",
    "    p_=random.randint(2**(nbits-1),2**(nbits));\n",
    "    while not fermat_primality_test(p_,s):\n",
    "        p_=random.randint(2**nbits,2**(nbits+1)-1);\n",
    "    return p_\n",
    "\n",
    "p=generate_large_prime(512,1000)\n",
    "print(\"- p=\",hex(p))\n",
    "print(\"- len(p)=\",len(bin(p))-2)\n",
    "print(\"- is prime?\",fermat_primality_test(p,1000));\n",
    "\n",
    "q=generate_large_prime(512,1000)\n",
    "print(\"- q=\",hex(q))\n",
    "print(\"- len(q)=\",len(bin(q))-2)\n",
    "print(\"- is prime?\",fermat_primality_test(q,1000));"
   ]
  },
  {
   "cell_type": "markdown",
   "metadata": {},
   "source": [
    "## Step 2: Computing n"
   ]
  },
  {
   "cell_type": "markdown",
   "metadata": {},
   "source": [
    "For this step, we can simply multiply p and q using the built-in $*$ operator:"
   ]
  },
  {
   "cell_type": "code",
   "execution_count": 84,
   "metadata": {},
   "outputs": [
    {
     "name": "stdout",
     "output_type": "stream",
     "text": [
      "-n= 0x35b168f89f69a636d6c2c3c3174e69684af1156cf3709acbe5e6eea18cc24af8db45633795f67cd33b9eed9677537306421101129f34c1c2578c7f9b3eb8e58f132bac48861973a6ccb6417bd160a7614806628712cd617be336302e0064f0eed3fb9de186d79a4e288dba4cc291dadb1e192ee6f37616df8d881af9d0d8f8d61\n"
     ]
    }
   ],
   "source": [
    "n = p*q\n",
    "print(\"-n=\",hex(n))"
   ]
  },
  {
   "cell_type": "markdown",
   "metadata": {},
   "source": [
    "## Step 3: Computing $\\phi(n)$"
   ]
  },
  {
   "cell_type": "markdown",
   "metadata": {},
   "source": [
    "Same remark for this step, we can simply use the built-in $*$ operator to compute $\\phi(n)$:"
   ]
  },
  {
   "cell_type": "code",
   "execution_count": 87,
   "metadata": {},
   "outputs": [
    {
     "name": "stdout",
     "output_type": "stream",
     "text": [
      "phi(n)= 0x35b168f89f69a636d6c2c3c3174e69684af1156cf3709acbe5e6eea18cc24af8db45633795f67cd33b9eed9677537306421101129f34c1c2578c7f9b3eb8e58ed887467f29b18dcda717325fd8e4ca009cb56f44160d09344c1e3904c936313d9f5bd880c5cca52e2ffb9a707ea6bb1042f3fa7e353495a8541e225e26085b294\n"
     ]
    }
   ],
   "source": [
    "phi=(p-1)*(q-1);\n",
    "print(\"phi(n)=\",hex(phi));"
   ]
  },
  {
   "cell_type": "markdown",
   "metadata": {},
   "source": [
    "## Step 4: Selecting the public key exponent e"
   ]
  },
  {
   "cell_type": "markdown",
   "metadata": {},
   "source": [
    "This step is a bit tricky. We first need to randomly chose a number in the range $[1,\\phi(n)-1]$ and then make sure that it is reversible, in other words that $e^-1$ exists in $\\mathbb{Z}_{\\phi_n}$. This ensures that the private key $d$ exists.\n",
    "In order to make this verification, we will make use of the \"Extended Euclidian Algorithm\" that will also be used in the private key computation."
   ]
  },
  {
   "cell_type": "markdown",
   "metadata": {},
   "source": [
    "### Extended Euler Algorithm\n",
    "\n",
    "![Extended Euler Algorithm](007.png \"Extended Euler Algorithm\")"
   ]
  },
  {
   "cell_type": "code",
   "execution_count": 115,
   "metadata": {},
   "outputs": [
    {
     "name": "stdout",
     "output_type": "stream",
     "text": [
      "1 -0xd1884939ce368b56c043f1d9a987942f008cb1d8fdc00f90ee172095af4abb1bdc061453231587d2911e03831052847c0592a4505ef16861243f324ffd0ae1796ca8578cdc70f94100884a3203c012b5811469afce15814b04030033b994083b2daff847ecdbc33ea284249cbcda3db3ccc8dd47b0d22faf808d8d4aa94cb27 0x416a9a8bb2ffa31223cd8ef0139f2c83a5d8e4b06033cb36a83068186973d299d1de8293dc83c76f4125307e90de61db929ff590896d46fc1ea11257611ece283d49c323d264cc7daba637fd0c8c4a3eb3c242026f16151216b51dab15991562847ebe2c6d8bda9b275054c8f827e6d77b0f83a6e6e9741efbaa7b5dae959e 0xc21a93ee751a8d4fbfd77285d79d6768c58ebf283743d2889a395f266c78f4a28e86f545960c2ce01eb8ad5246905163b28d0b8baabb959cc03f4ec499186168ae9ed6d88058898907e61c7cccc584d65d801cfe32dfc983707f87f5aa6ae4b9e77b9ce630e2c0df05841b5e4984d059a35d7270d500514891f7b77b804bed81\n"
     ]
    }
   ],
   "source": [
    "def extended_euler_algorithm(r0:int, r1:int):\n",
    "    s=[1,0];\n",
    "    t=[0,1];\n",
    "    r=[r0,r1];\n",
    "    i=1;\n",
    "    while r[i]!=0:\n",
    "        i = i+1;\n",
    "        r.append(r[i-2]%r[i-1]);\n",
    "        q = (r[i-2]-r[i])//r[i-1];\n",
    "        s.append(s[i-2]-q*s[i-1]);\n",
    "        t.append(t[i-2]-q*t[i-1]);\n",
    "    return (r[i-1], s[i-1], t[i-1])"
   ]
  },
  {
   "cell_type": "markdown",
   "metadata": {},
   "source": [
    "### Testing the Extended Euclidian Algorithm"
   ]
  },
  {
   "cell_type": "markdown",
   "metadata": {},
   "source": [
    "\n",
    "Let's test the algorithm to assess that $gcd(e, \\phi(n))=1$."
   ]
  },
  {
   "cell_type": "code",
   "execution_count": 116,
   "metadata": {},
   "outputs": [
    {
     "name": "stdout",
     "output_type": "stream",
     "text": [
      "gcd(e,phi(n))= 1\n"
     ]
    }
   ],
   "source": [
    "p=0xE0DFD2C2A288ACEBC705EFAB30E4447541A8C5A47A37185C5A9CB98389CE4DE19199AA3069B404FD98C801568CB9170EB712BF10B4955CE9C9DC8CE6855C6123;\n",
    "q=0xEBE0FCF21866FD9A9F0D72F7994875A8D92E67AEE4B515136B2A778A8048B149828AEA30BD0BA34B977982A3D42168F594CA99F3981DDABFAB2369F229640115;\n",
    "phi=(p-1)*(q-1);\n",
    "e=0x40B028E1E4CCF07537643101FF72444A0BE1D7682F1EDB553E3AB4F6DD8293CA1945DB12D796AE9244D60565C2EB692A89B8881D58D278562ED60066DD8211E67315CF89857167206120405B08B54D10D4EC4ED4253C75FA74098FE3F7FB751FF5121353C554391E114C85B56A9725E9BD5685D6C9C7EED8EE442366353DC39;\n",
    "gcd, _, _ = extended_euler_algorithm(e,phi);\n",
    "print(\"gcd(e,phi(n))=\",gcd);"
   ]
  },
  {
   "cell_type": "markdown",
   "metadata": {},
   "source": [
    "## Step 5: Computing the private key d"
   ]
  },
  {
   "cell_type": "markdown",
   "metadata": {},
   "source": [
    "In order to compute the private key, we can use the parameter $t$ obtained from the EEA as follow: $d=t \\ mod(\\phi(n))$"
   ]
  },
  {
   "cell_type": "code",
   "execution_count": 118,
   "metadata": {},
   "outputs": [
    {
     "name": "stdout",
     "output_type": "stream",
     "text": [
      "d= 0xc21a93ee751a8d4fbfd77285d79d6768c58ebf283743d2889a395f266c78f4a28e86f545960c2ce01eb8ad5246905163b28d0b8baabb959cc03f4ec499186168ae9ed6d88058898907e61c7cccc584d65d801cfe32dfc983707f87f5aa6ae4b9e77b9ce630e2c0df05841b5e4984d059a35d7270d500514891f7b77b804bed81\n"
     ]
    }
   ],
   "source": [
    "p=0xE0DFD2C2A288ACEBC705EFAB30E4447541A8C5A47A37185C5A9CB98389CE4DE19199AA3069B404FD98C801568CB9170EB712BF10B4955CE9C9DC8CE6855C6123;\n",
    "q=0xEBE0FCF21866FD9A9F0D72F7994875A8D92E67AEE4B515136B2A778A8048B149828AEA30BD0BA34B977982A3D42168F594CA99F3981DDABFAB2369F229640115;\n",
    "phi=(p-1)*(q-1);\n",
    "e=0x40B028E1E4CCF07537643101FF72444A0BE1D7682F1EDB553E3AB4F6DD8293CA1945DB12D796AE9244D60565C2EB692A89B8881D58D278562ED60066DD8211E67315CF89857167206120405B08B54D10D4EC4ED4253C75FA74098FE3F7FB751FF5121353C554391E114C85B56A9725E9BD5685D6C9C7EED8EE442366353DC39;\n",
    "gcd, s, _ = extended_euler_algorithm(e,phi);\n",
    "d=s%phi;\n",
    "print(\"d=\",hex(d));"
   ]
  },
  {
   "cell_type": "markdown",
   "metadata": {},
   "source": [
    "# Full Protocol in Action"
   ]
  },
  {
   "cell_type": "markdown",
   "metadata": {},
   "source": [
    "Now that we have gathered all the pieces from the puzzle, we can now put them together and see how the RSA key exchange would work."
   ]
  },
  {
   "cell_type": "markdown",
   "metadata": {},
   "source": [
    "# Digital Signature"
   ]
  }
 ],
 "metadata": {
  "kernelspec": {
   "display_name": "Python 3.10.7 64-bit",
   "language": "python",
   "name": "python3"
  },
  "language_info": {
   "codemirror_mode": {
    "name": "ipython",
    "version": 3
   },
   "file_extension": ".py",
   "mimetype": "text/x-python",
   "name": "python",
   "nbconvert_exporter": "python",
   "pygments_lexer": "ipython3",
   "version": "3.10.7"
  },
  "orig_nbformat": 4,
  "vscode": {
   "interpreter": {
    "hash": "aee8b7b246df8f9039afb4144a1f6fd8d2ca17a180786b69acc140d282b71a49"
   }
  }
 },
 "nbformat": 4,
 "nbformat_minor": 2
}
